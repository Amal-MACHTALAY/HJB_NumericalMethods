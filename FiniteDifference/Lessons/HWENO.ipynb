{
 "cells": [
  {
   "cell_type": "markdown",
   "metadata": {},
   "source": [
    "# <span style=\"color:Blue\">HWENO schemes </span>"
   ]
  },
  {
   "cell_type": "markdown",
   "metadata": {},
   "source": [
    "Hermite weighted essentially non-oscillatory (HWENO) is a new type of high order scheme based on the finite difference framework to solve the Hamilton Jacobi (HJ) equation."
   ]
  },
  {
   "cell_type": "markdown",
   "metadata": {},
   "source": [
    "## One dimensional case"
   ]
  },
  {
   "cell_type": "markdown",
   "metadata": {},
   "source": [
    "$$ \\partial _{t}u + H\\left ( \\partial _{x}u \\right ) =0 \\quad u(x,0)=u_{0}(x) \\quad x \\in \\left [ a , b \\right ]\n",
    "\\quad (1) $$  \n",
    "\n",
    "We consider a uniform mesh : $ a=x_{0} < x_{1} < ... < x_{N-1} < x_{N}=b $  \n",
    "$ u_{j} = u( x_{j} ,t) $ : the numerical approximation to the viscosity solution.  \n",
    "$ w_{j} = \\partial _{x} u( x_{j} ,t) $ : the numerical approximation to its first derivative."
   ]
  }
 ],
 "metadata": {
  "kernelspec": {
   "display_name": "Python 3",
   "language": "python",
   "name": "python3"
  },
  "language_info": {
   "codemirror_mode": {
    "name": "ipython",
    "version": 3
   },
   "file_extension": ".py",
   "mimetype": "text/x-python",
   "name": "python",
   "nbconvert_exporter": "python",
   "pygments_lexer": "ipython3",
   "version": "3.8.5"
  }
 },
 "nbformat": 4,
 "nbformat_minor": 4
}
