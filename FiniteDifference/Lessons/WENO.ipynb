{
 "cells": [
  {
   "cell_type": "markdown",
   "metadata": {},
   "source": [
    "# <span style=\"color:Blue\">WENO schemes </span>"
   ]
  },
  {
   "cell_type": "markdown",
   "metadata": {},
   "source": [
    "Weighted essentially nonoscillatory (WENO) schemes for solving HJB equations. The essential idea of the WENO schemes is an adaptive interpolation or reconstruction procedure."
   ]
  },
  {
   "cell_type": "markdown",
   "metadata": {},
   "source": [
    "## Main Idea\n",
    "\n",
    "The ENO procedure therefore leads for $S^{3}_{-}$ to one of the corresponding approximations noted $S^{3a}_{-}, S^{3b}_{-}, S^{3c}_{-}$ the others being ignored.  \n",
    "This procedure appeared natural to avoid oscillations near kinks.  \n",
    "In regular areas, the three values all agree a priori, so it may seem costly and unnecessary to compare and exclude two of them.  \n",
    "Finally, it seems natural to choose a convex combination or weighted average of these three values :\n",
    "$$p^{-}=\\omega ^{-}_{a}p ^{-}_{a}+\\omega ^{-}_{b}p ^{-}_{b}+\\omega ^{-}_{c}p ^{-}_{c}$$\n",
    "combination to be chosen convex for reasons of consistency and stability, i.e. such that : \n",
    "$$ \\omega ^{-}_{a}+\\omega ^{-}_{b}+\\omega ^{-}_{c}=1 \\text{ and } \\omega ^{-}_{a}\\geq 0 \\text{, }\\omega ^{-}_{b}\\geq 0 \\text{, }\\omega ^{-}_{c}\\geq 0$$\n",
    "It is now a question of determining the coefficients $\\omega ^{-}_{a},\\omega ^{-}_{b},\\omega ^{-}_{c}$"
   ]
  },
  {
   "cell_type": "markdown",
   "metadata": {},
   "source": [
    "## Weights\n",
    "\n",
    "- If we set the weight for the ENO chosen stencil to be unity and the remaining two weights to be zero, then we get the 3 rd order ENO approximation to $p^{-}(x_{j})$.\n",
    "- If we set $ \\omega ^{-}_{a}=0.1$, $ \\omega ^{-}_{b}=0.6$ and $ \\omega ^{-}_{c}=0.3$.  \n",
    "  We get a polynominal interpolation of degree 5 based on the following stencil :  \n",
    "  $$ S^{5}_{-}=S^{3,a}_{-} \\cup S^{3,b}_{-} \\cup S^{3,c}_{-} =\\left \\{ x_{j-3},x_{j-2},x_{j-1},x_{j},x_{j+1},x_{j+2}\\right \\}$$  \n",
    "\n",
    "This choice leads a priori to a numerical method oscillating near discontinuities for the same reasons as before (the stencil may contain a discontinuity)!! \n",
    "\n",
    "We define the weights according to the following two principles : \n",
    "  - In regular areas, choose :  \n",
    "  $ \\omega ^{-}_{a}=0.1+O(\\Delta x^{2})$, $ \\omega ^{-}_{b}=0.6+O(\\Delta x^{2})$ and $ \\omega ^{-}_{c}=0.3+O(\\Delta x^{2})$\n",
    "  - Near to discontinuities, choose for example the small $\\omega ^{-}_{a}$ if the stencil $S^{3,a}_{-}$ contains a discontinuity..."
   ]
  },
  {
   "cell_type": "markdown",
   "metadata": {},
   "source": [
    "## Weighted ENO3 \n",
    "\n",
    "The 3rd order accurate ENO scheme will choose one from the following to approximate $p^{3}_{-}(x_{j})$ :  \n",
    "$p^{3,a}_{j-}=\\frac{1}{\\Delta x} \\left (\\frac{11}{6}u^{n}_{j}-3u^{n}_{j-1}+\\frac{3}{2}u^{n}_{j-2}-\\frac{1}{3}u^{n}_{j-3} \\right )=\\frac{1}{3}p^{1}_{(j-2)-}-\\frac{7}{6}p^{1}_{(j-1)-}+\\frac{11}{6}p^{1}_{j-}$  \n",
    "$p^{3,b}_{j-}=\\frac{1}{\\Delta x} \\left (-\\frac{1}{6}u^{n}_{j+2}+u^{n}_{j+1}-\\frac{1}{2}u^{n}_{j}-\\frac{1}{3}u^{n}_{j-1} \\right )=-\\frac{1}{6}p^{1}_{(j-1)-}+\\frac{5}{6}p^{1}_{j-}+\\frac{1}{3}p^{1}_{(j+1)-}$  \n",
    "$p^{3,c}_{j-}=\\frac{1}{\\Delta x} \\left (\\frac{1}{3}u^{n}_{j+1}+\\frac{1}{2}u^{n}_{j}-u^{n}_{j-1}+\\frac{1}{6}u^{n}_{j-2} \\right )=\\frac{1}{3}p^{1}_{j-}+\\frac{5}{6}p^{1}_{(j+1)-}-\\frac{1}{6}p^{1}_{(j+2)-}$\n",
    "\n",
    "We surch for :\n",
    "$$p^{3}_{-}=\\omega ^{-}_{a}p ^{3,a}_{-}+\\omega ^{-}_{b}p ^{3,b}_{-}+\\omega ^{-}_{c}p ^{3,c}_{-}$$\n",
    "Substitute $\\omega ^{-}_{c}=1-\\omega ^{-}_{a}-\\omega ^{-}_{b}$, we get\n",
    "$$p^{3}_{-}=\\frac{1}{2} \\left (p ^{3,b}_{-}+p ^{3,c}_{-} \\right )+\\omega ^{-}_{a}\\left (p ^{3,a}_{-}-p ^{3,c}_{-} \\right )+\\left (\\omega ^{-}_{b}-\\frac{1}{2} \\right ) \\left (p ^{3,b}_{-}-p ^{3,c}_{-} \\right )$$\n",
    "Then\n",
    "$$\\boxed{p^{3}_{-}=\\frac{1}{12} \\left (-p^{1}_{(j-1)-}+7p^{1}_{j-}+7p^{1}_{(j+1)-}-p^{1}_{(j+2)-}\\right )-\\Phi^{WENO} \\left (p^{1}_{(j-1)-}-p^{1}_{(j-2)-} ,\\: p^{1}_{(j)-}-p^{1}_{(j-1)-} ,\\: p^{1}_{(j+1)-}-p^{1}_{(j)-} ,\\: p^{1}_{(j+2)-}-p^{1}_{(j+1)-} \\right )}$$\n",
    "Where \n",
    "$$\\Phi^{WENO} (a,b,c,d)=\\frac{1}{3}\\omega ^{-}_{a} \\left (a-2b+c \\right )+\\frac{1}{6} \\left (\\omega ^{-}_{b}-\\frac{1}{2} \\right ) (b-2c+d)$$\n",
    "\n",
    "$$\\left\\{\\begin{matrix}\n",
    "\\quad a=p^{1}_{(j-1)-}-p^{1}_{(j-2)-}\\\\ \n",
    "b=p^{1}_{(j)-}-p^{1}_{(j-1)-} \\\\ \n",
    "c=p^{1}_{(j+1)-}-p^{1}_{(j)-} \\\\ \n",
    "\\quad d=p^{1}_{(j+2)-}-p^{1}_{(j+1)-}\n",
    "\\end{matrix}\\right.$$\n",
    "\n",
    "And the weights $\\omega ^{-}_{a},\\omega ^{-}_{b}$ are defined as\n",
    "$$\\omega ^{-}_{a}=\\frac{\\alpha_{a}}{\\alpha_{a}+\\alpha_{b}+\\alpha_{c}}, \\: \\: \\omega ^{-}_{b}=\\frac{\\alpha_{b}}{\\alpha_{a}+\\alpha_{b}+\\alpha_{c}}$$\n",
    "\n",
    "$$\\alpha_{a}=\\frac{1}{(\\varepsilon+IS_{a})^{2}}, \\alpha_{b}=\\frac{3}{(\\varepsilon+IS_{b})^{2}},\\alpha_{c}=\\frac{6}{(\\varepsilon+IS_{c})^{2}}$$\n",
    "\n",
    "$$IS_{a}=13(a-b)^{2}+3(a-3b)^{2}$$\n",
    "$$IS_{b}=13(c-d)^{2}+3(3c-d)^{2}$$\n",
    "$$IS_{c}=13(b-c)^{2}+3(b+c)^{2}$$\n",
    "\n",
    "Here $\\varepsilon$ is used to prevent the denominators from becoming zero. In our computation, we shall use $\\varepsilon = 10^{-6}$.  \n",
    "One can check that the above de nition of weights satis es the two\n",
    "principles we mentioned in the previous paragraph.\n",
    "\n",
    "**Note**  \n",
    "\n",
    "We can put the 3rd ENO approximation in a similar form with $\\Phi^{WENO}$ replaced by\n",
    "$$\\Phi^{ENO}(a,b,c,d)=\\left\\{\\begin{matrix}\n",
    "\\Phi_{1}+\\frac{1}{3}(a-2b+c) & \\text{if } \\left | b \\right | <\\left | c \\right | \\text{ and } \\left | a-b \\right |<\\left | b-c \\right |\\\\ \n",
    "-\\Phi_{1} & \\text{if } \\left | b \\right | >\\left | c \\right | \\text{ and } \\left | b-c \\right |>\\left | c-d \\right | \\\\ \n",
    "\\Phi_{1} & \\text{ Otherwise} \n",
    "\\end{matrix}\\right.$$\n",
    "Where $\\Phi_{1}=-\\frac{1}{12}(b-2c+d)$.\n",
    "\n",
    "By symmetry, the approximation of $p^{3}_{+}(x_{j})$ :\n",
    "$$\\boxed{p^{3}_{+}=\\frac{1}{12} \\left (-p^{1}_{(j-2)+}+7p^{1}_{(j-1)+}+7p^{1}_{j+}-p^{1}_{(j+1)+}\\right )+\\Phi^{WENO} \\left (p^{1}_{(j+2)+}-p^{1}_{(j+1)+} ,\\: p^{1}_{(j+1)+}-p^{1}_{j+} ,\\: p^{1}_{j+}-p^{1}_{(j-1)+} ,\\: p^{1}_{(j-1)+}-p^{1}_{(j-2)+} \\right )}$$"
   ]
  },
  {
   "cell_type": "markdown",
   "metadata": {},
   "source": [
    "### References"
   ]
  },
  {
   "cell_type": "markdown",
   "metadata": {},
   "source": [
    "[1] C.-W. Shu, High order weighted essentially non-oscillatory schemes for convection dominated problems, SIAM Review, 51 (2009), 82-126. \n",
    "\n",
    "[2] G. Jiang and D. Peng. Weighted ENO schemes for Hamilton Jacobi equations. SIAM J. Sci. Comput., 21:2126–2143, 1999."
   ]
  }
 ],
 "metadata": {
  "kernelspec": {
   "display_name": "Python 3",
   "language": "python",
   "name": "python3"
  },
  "language_info": {
   "codemirror_mode": {
    "name": "ipython",
    "version": 3
   },
   "file_extension": ".py",
   "mimetype": "text/x-python",
   "name": "python",
   "nbconvert_exporter": "python",
   "pygments_lexer": "ipython3",
   "version": "3.8.5"
  }
 },
 "nbformat": 4,
 "nbformat_minor": 4
}
