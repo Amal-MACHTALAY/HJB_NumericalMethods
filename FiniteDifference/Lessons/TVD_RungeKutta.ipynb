{
 "cells": [
  {
   "cell_type": "markdown",
   "metadata": {},
   "source": [
    "## TVD-Runge Kutta time discretization\n",
    "\n",
    "## 1-D case\n",
    "\n",
    "Let, at any node $x_{j}$ :\n",
    "$$\\left\\{\\begin{matrix}\n",
    "u_{j}^{(0)}=u_{j}^{n}\\\\ \n",
    "L_{j}^{(0)}=L(u_{j}^{(0)})=-\\Delta t H^{num}(p_{j}^{+(0)},p_{j}^{-(0)})\n",
    "\\end{matrix}\\right.$$\n",
    "For order $r$ :  $u_{j}^{(r)}=u_{j}^{n+1}$\n",
    "With $$u_{j}^{(k)}=\\sum_{l=0}^{k-1}\\left [ \\alpha _{k,l} u_{j}^{(l)}+\\beta_{k,l} u_{j}^{(l)}\\right ] \\text{ for } k=1,...,r$$ \n",
    "With $L_{j}^{(l)}=L(u_{j}^{(l)})$  \n",
    "\n",
    "\n",
    "## 2-D case\n",
    "\n",
    "Let, at any node $x_{i,j}$ :\n",
    "$$\\left\\{\\begin{matrix}\n",
    "u_{i,j}^{(0)}=u_{i,j}^{n}\\\\ \n",
    "L_{i,j}^{(0)}=L(u_{i,j}^{(0)})=-\\Delta t H^{num}(p_{i,j}^{+(0)},p_{i,j}^{-(0)},q_{i,j}^{+(0)},q_{i,j}^{-(0)})\n",
    "\\end{matrix}\\right.$$\n",
    "For order $r$ :  $u_{i,j}^{(r)}=u_{i,j}^{n+1}$\n",
    "With $$u_{i,j}^{(k)}=\\sum_{l=0}^{k-1}\\left [ \\alpha _{k,l} u_{i,j}^{(l)}+\\beta_{k,l} u_{i,j}^{(l)}\\right ] \\text{ for } k=1,...,r$$ \n",
    "With $L_{i,j}^{(l)}=L(u_{i,j}^{(l)})$  \n",
    "\n",
    "![demo](figures/TVD_RungeKutta.png)"
   ]
  }
 ],
 "metadata": {
  "kernelspec": {
   "display_name": "Python 3",
   "language": "python",
   "name": "python3"
  },
  "language_info": {
   "codemirror_mode": {
    "name": "ipython",
    "version": 3
   },
   "file_extension": ".py",
   "mimetype": "text/x-python",
   "name": "python",
   "nbconvert_exporter": "python",
   "pygments_lexer": "ipython3",
   "version": "3.8.5"
  }
 },
 "nbformat": 4,
 "nbformat_minor": 4
}
