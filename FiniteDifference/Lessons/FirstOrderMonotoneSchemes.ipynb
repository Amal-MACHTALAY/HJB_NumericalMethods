{
 "cells": [
  {
   "cell_type": "markdown",
   "metadata": {},
   "source": [
    "# <span style=\"color:Blue\">First order monotone schemes  </span>"
   ]
  },
  {
   "cell_type": "markdown",
   "metadata": {},
   "source": [
    "## One-Dimentional case \n",
    "\n",
    "We begin with N = 1 and write HJ in the form : \n",
    "\n",
    "$$ \\partial _{t}u + H\\left ( \\partial _{x}u \\right ) =0 \\quad u(x,0)=u_{0}(x) \\quad \\text{for } t>0 \\text{ , } x \\in \\left [ a , b \\right ]\n",
    "\\quad (1) $$  \n",
    "\n",
    "### Notations\n",
    "\n",
    "Given mesh sizes $\\Delta x \\text{ , } \\Delta t > 0$, our numerical approximation at $(x_{j}, t^{n})$ will be denoted $ U_{j}^{n} \\approx  U_{j}^{n} \\quad \\forall j,n \\in \\mathbb{Z} $. Where $x_{j}= j \\Delta \\text{ , } t^{n}= n \\Delta t$\n",
    "\n",
    "\n",
    "$ \\lambda^{x} = \\frac{\\Delta t}{\\Delta x} \\text{ , } \\Delta _{+}^{x} U_{j} = U_{j+1} - U_{j} \\text{ , } p^{+} =\\frac{ \\Delta _{+}^{x} U_{j} }{\\Delta x} \\text{ , } p^{-} =\\frac{\\Delta _{+}^{x} U_{j-1}}{\\Delta x}$  \n",
    "\n",
    "### Note\n",
    "\n",
    "Since we are in 1D and $\\Omega =\\mathbb{R}$, there is a relation with conservation laws.\n",
    "\n",
    "### Scheme\n",
    "\n",
    "Our finite difference schemes are in the form :\n",
    "\n",
    "$$ U_{j}^{n+1} = U_{j}^{n} - \\Delta t H^{num} \\left ( p^{-} , p^{+}  \\right )$$\n",
    "\n",
    "We define our $S_{h}$ operator : $h=(\\Delta t , \\Delta x)$ \n",
    "$$S_{h}(x_{j}^{n+1},U_{j}^{n+1},u^{h})=\\frac{U_{j}^{n+1}-U_{j}^{n}}{\\Delta t} + H^{num}(x_{j},\\frac{U_{j}^{n}-U_{j-1}^{n}}{\\Delta x},\\frac{U_{j+1}^{n}-U_{j}^{n}}{\\Delta x})$$\n",
    "\n",
    "### Properties of $H^{num}$\n",
    "\n",
    "- Lipschitz continuous.\n",
    "- Consistent with $H$ : $H^{num} (p,p)= H(p)$\n",
    "- Monotone : $H\\left ( \\uparrow , \\downarrow  \\right )$  (the monotonicity means that the map ($U^{n} \\rightarrow U_{j}^{n+1}$) is a nondecreasing function of each $U_{i}^{n}$).\n",
    "- Stability ?? \n",
    "\n",
    "We now give some examples of monotone fluxes $H^{num}$"
   ]
  },
  {
   "cell_type": "markdown",
   "metadata": {},
   "source": [
    "###  Local Lax-Friedrichs Scheme (LLF)\n",
    "\n",
    "The numerical Hamiltonian is given by \n",
    "$$ H^{LLF} (p^{-} , p^{+}) = H(\\frac{p^{-} +p^{+}}{2})-\\frac{1}{2}\\alpha ^{x}(p^{+} - p^{-} )  \\quad \\text{for } p^{-} , p^{+} \\in \\mathbb{R} $$\n",
    "Where \n",
    "$$\\alpha ^{x}= \\underset{p^{*} \\in I(p^{-},p^{+})}{max}\\left | \\partial_{p} H(p^{*}) \\right |$$\n",
    "And \n",
    "$$\n",
    "I(p^{-},p^{+})=\\left [ \\min\\left ( p^{-},p^{+} \\right ),  \\max\\left ( p^{-},p^{+} \\right ) \\right ]$$"
   ]
  },
  {
   "cell_type": "markdown",
   "metadata": {},
   "source": [
    "### Godunov Scheme\n",
    "\n",
    "The numerical Hamiltonian :\n",
    "    $$ H^{G}(p^{-},p^{+})= \\left\\{\\begin{matrix}\n",
    "\\underset{p^{} \\in I(p^{-},p^{+})}{min} \\left \\{ H(p) \\right \\} & \\text{ if } p^{-}\\leq p^{+} \\\\ \n",
    "\\underset{p^{} \\in I(p^{-},p^{+})}{max} \\left \\{ H(p) \\right \\} & \\text{ if } p^{-}\\geq p^{+} \n",
    "\\end{matrix}\\right.$$"
   ]
  },
  {
   "cell_type": "markdown",
   "metadata": {},
   "source": [
    "### Roe Scheme with LLF entropy correction\n",
    "\n",
    "The numerical Hamiltonian :\n",
    "$$ H^{R}(p^{-},p^{+}) = \\left\\{\\begin{matrix}\n",
    "H(p^{*}) & \\text{ if } \\partial _{p}H(p) \\text{ doesn't change the signe in } I(p^{-},p^{+}) \\\\ \n",
    "H^{LF}(p^{-},p^{+}) & \\text{ else }\n",
    "\\end{matrix}\\right.$$\n",
    "Where\n",
    "$$p^{*}=\\left\\{\\begin{matrix}\n",
    "p^{-} & \\text{ if } \\partial _{p}H(p) \\geq 0 \\\\ \n",
    "p^{+} & \\text{ else }\n",
    "\\end{matrix}\\right.$$"
   ]
  }
 ],
 "metadata": {
  "kernelspec": {
   "display_name": "Python 3",
   "language": "python",
   "name": "python3"
  },
  "language_info": {
   "codemirror_mode": {
    "name": "ipython",
    "version": 3
   },
   "file_extension": ".py",
   "mimetype": "text/x-python",
   "name": "python",
   "nbconvert_exporter": "python",
   "pygments_lexer": "ipython3",
   "version": "3.8.5"
  }
 },
 "nbformat": 4,
 "nbformat_minor": 4
}
