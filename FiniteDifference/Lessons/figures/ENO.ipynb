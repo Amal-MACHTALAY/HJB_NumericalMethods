{
 "cells": [
  {
   "cell_type": "markdown",
   "metadata": {},
   "source": [
    "# <span style=\"color:Blue\">ENO schemes </span>"
   ]
  },
  {
   "cell_type": "markdown",
   "metadata": {},
   "source": [
    "High-order essentially nonoscillatory (ENO) schemes for H-J equations. The ENO interpolation idea is used to\n",
    "obtain high-order accuracy in smooth regions, good resolution of discontinuities in the derivatives, and convergence to viscosity solutions are observed."
   ]
  },
  {
   "cell_type": "markdown",
   "metadata": {},
   "source": [
    "## Main Idea\n",
    "\n",
    "Oscillations appear because the stencil $S$ can pass through a discontinuity of the derivative.  \n",
    "The objective is to obtain a precise solution in the zones of regularity of the function and which does not oscillate in the zones of discontinuity of the derivative of the function."
   ]
  },
  {
   "cell_type": "markdown",
   "metadata": {},
   "source": [
    "## One-Dimensional case "
   ]
  },
  {
   "cell_type": "markdown",
   "metadata": {},
   "source": [
    "### Procedure\n",
    "\n",
    "Our goal is to forme a polunominal of degree $k$.\n",
    "We start by the stencil $S^{1}$, and in each step, we add either the left or right neighbour in the stencil to finally form the stencil $S^{k}$ formed by $k+1$ points.  \n",
    "To choose between the left or the right neighbour, we start from the principle that the objective is to improve the accuracy of the scheme without getting too far away from the previous stencil supposed to lead to a scheme with little or no oscillations.  \n",
    "\n",
    "We consider the usual Newton divided differences :\n",
    "$$u^{n}[j,...,j+m]=\\frac{u^{n}[j+1,...,j+m]-u^{n}[j,...,j+m-1]}{x_{j+m}-x_{j}}$$\n",
    "\n",
    "With :  \n",
    "$$ u^{n}[j]=u^{n}_{j} \\text{, } u^{n}[j,j+1]=\\frac{u^{n}_{j+1}-u^{n}_{j}}{x_{j+1}-x_{j}}$$\n",
    "\n",
    "The polynominal of **degree k+1** :  \n",
    "Let $a^{k}=u^{n}[j,...,j+l]$ and $b^{k}=u^{n}[j-1,...,j+l-1]$\n",
    "- If $\\left |a^{k}\\right | <\\left |b^{k}\\right |$, then $c^{k+1}=a^{k}$\n",
    "- Otherwise $c^{k+1}=b^{k}$\n",
    "\n",
    "$$Q^{k+1}(x)=Q^{k}(x)+c^{k+1}\\prod_{i=j}^{j+l-1}\\left ( x-x_{i} \\right )$$\n",
    "\n",
    "### ENO of degree 1\n",
    "\n",
    "We start by the stencil $S^{1}_{-}=\\left \\{x_{j-1},x_{j} \\right \\}$.\n",
    "The same procedure is used for $S^{1}_{+}=\\left \\{x_{j},x_{j+1} \\right \\}$ \n",
    "\n",
    "The polynominal of **degree 1** :\n",
    "$$Q^{1}_{-}(x)=u^{n}[j]+u^{n}[j-1,j](x-x_{j})$$\n",
    "$$Q^{1}_{+}(x)=u^{n}[j]+u^{n}[j,j+1](x-x_{j})$$\n",
    "\n",
    "With $p^{1}_{j-}=Q^{1'}_{-}(x_{j}) \\text{ and } p^{1}_{j+}=Q^{1'}_{+}(x_{j})$  \n",
    "\n",
    "### ENO of degree 2\n",
    "\n",
    "The ENO procedure leads for $S^{2}_{-}$ to one of the following three stencils :  \n",
    "\n",
    "$$S_{-}^{2}=S_{-}^{2,L}=\\left \\{x_{j-2},x_{j-1},x_{j} \\right \\} \\text{ if } \\left | u^{n}\\left [ j-2,j-1,j \\right ] \\right | < \\left | u^{n}\\left [ j-1,j,j+1 \\right ] \\right |$$ \n",
    "$$S_{-}^{2}=S_{-}^{2,R}=\\left \\{x_{j-1},x_{j},x_{j+1} \\right \\} \\text{ if } \\left | u^{n}\\left [ j-2,j-1,j \\right ] \\right | > \\left | u^{n}\\left [ j-1,j,j+1 \\right ] \\right |$$ \n",
    "\n",
    "The polynominal of **degree 2** :\n",
    "$$Q^{2,L}_{-}=Q^{1}_{-}(x)+u^{n}[j-2,j-1,j] (x-x_{j-1})(x-x_{j})$$\n",
    "$$Q^{2,R}_{-}=Q^{1}_{-}(x)+u^{n}[j-1,j,j+1] (x-x_{j-1})(x-x_{j})$$\n",
    "\n",
    "The ENO procedure leads for $S^{2}_{+}$ to one of the following three stencils :  \n",
    "\n",
    "$$S_{+}^{2}=S_{+}^{2,L}=\\left \\{x_{j-1},x_{j},x_{j+1} \\right \\} \\text{ if } \\left | u^{n}\\left [ j-1,j,j+1 \\right ] \\right | < \\left | u^{n}\\left [ j,j+1,j+2 \\right ] \\right |$$ \n",
    "$$S_{+}^{2}=S_{+}^{2,R}=\\left \\{x_{j},x_{j+1},x_{j+2} \\right \\} \\text{ if } \\left | u^{n}\\left [ j-1,j,j+1 \\right ] \\right | > \\left | u^{n}\\left [ j,j+1,j+2 \\right ] \\right |$$ \n",
    "\n",
    "The polynominal of **degree 2** :\n",
    "$$Q^{2,L}_{+}=Q^{1}_{+}(x)+u^{n}[j-1,j,j+1] (x-x_{j})(x-x_{j+1})$$\n",
    "$$Q^{2,R}_{+}=Q^{1}_{+}(x)+u^{n}[j,j+1,j+2] (x-x_{j})(x-x_{j+1})$$\n",
    "\n",
    "With $p^{2}_{j-}=Q^{2'}_{-}(x_{j}) \\text{ and } p^{2}_{j+}=Q^{2'}_{+}(x_{j})$ \n",
    "\n",
    "### ENO of degree 3\n",
    "\n",
    "The ENO procedure leads for $S^{3}_{-}$ to one of the following three stencils :  \n",
    "\n",
    "$$S^{3a}_{-}=\\left \\{ x_{j-3},x_{j-2},x_{j-1},x_{j} \\right \\} \\text{ if } \\left\\{\\begin{matrix}\n",
    "\\left | u^{n}\\left [ j-2,j-1,j \\right ] \\right | < \\left | u^{n}\\left [ j-1,j,j+1 \\right ] \\right | \\\\ \n",
    "\\left | u^{n}\\left [ j-3,j-2,j-1,j \\right ] \\right | < \\left | u^{n}\\left [ j-2,j-1,j,j+1 \\right ] \\right |\n",
    "\\end{matrix}\\right.$$  \n",
    "\n",
    "$$S^{3b}_{-}=\\left \\{ x_{j-1},x_{j},x_{j+1},x_{j+2} \\right \\} \\text{ if } \\left\\{\\begin{matrix}\n",
    "\\left | u^{n}\\left [ j-2,j-1,j \\right ] \\right | > \\left | u^{n}\\left [ j-1,j,j+1 \\right ] \\right | \\\\ \n",
    "\\left | u^{n}\\left [ j-2,j-1,j,j+1 \\right ] \\right | > \\left | u^{n}\\left [ j-1,j,j+1,j+2 \\right ] \\right |\n",
    "\\end{matrix}\\right.$$\n",
    "\n",
    "$$S^{3c}_{-}=\\left \\{ x_{j-2},x_{j-1},x_{j},x_{j+1} \\right \\} \\text{ otherwise }$$  \n",
    "\n",
    "\n",
    "![demo](images/stencil3.png)\n",
    "\n",
    "The polynominal of **degree 3** :\n",
    "$$Q^{3,a}_{-}=Q^{2}_{-}(x)+u^{n}[j-3,j-2,j-1,j] (x-x_{j-2})(x-x_{j-1})(x-x_{j})$$\n",
    "$$Q^{3,c}_{-}=Q^{2}_{-}(x)+u^{n}[j-2,j-1,j,j+1] (x-x_{j-2})(x-x_{j-1})(x-x_{j})$$\n",
    "**Or** \n",
    "$$Q^{3,c}_{-}=Q^{2}_{-}(x)+u^{n}[j-2,j-1,j,j+1] (x-x_{j-1})(x-x_{j})(x-x_{j+1})$$\n",
    "$$Q^{3,b}_{-}=Q^{2}_{-}(x)+u^{n}[j-1,j,j+1,j+2] (x-x_{j-1})(x-x_{j})(x-x_{j+1})$$\n",
    "\n",
    "etc... Until the stencil $S^{k}_{-}$ is obtained."
   ]
  },
  {
   "cell_type": "markdown",
   "metadata": {},
   "source": [
    "### References"
   ]
  },
  {
   "cell_type": "markdown",
   "metadata": {},
   "source": [
    "[1] S. Osher and C.-W. Shu. High-order essentially nonoscillatory schemes for Hamilton-Jacobi equations. SIAM J. Numer. Anal, 28:907–922, 1991."
   ]
  }
 ],
 "metadata": {
  "kernelspec": {
   "display_name": "Python 3",
   "language": "python",
   "name": "python3"
  },
  "language_info": {
   "codemirror_mode": {
    "name": "ipython",
    "version": 3
   },
   "file_extension": ".py",
   "mimetype": "text/x-python",
   "name": "python",
   "nbconvert_exporter": "python",
   "pygments_lexer": "ipython3",
   "version": "3.8.5"
  }
 },
 "nbformat": 4,
 "nbformat_minor": 4
}
