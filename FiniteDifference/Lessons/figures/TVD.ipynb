{
 "cells": [
  {
   "cell_type": "markdown",
   "metadata": {},
   "source": [
    "# <span style=\"color:Blue\">Total variation diminishing (TVD)</span>\n",
    "\n",
    "Traditional high-order schemes in space"
   ]
  },
  {
   "cell_type": "markdown",
   "metadata": {},
   "source": [
    "## Interpretation of the 1st monotone schemes\n",
    "\n",
    "Let $Q_{-}(x)$ a polynominal of **degree 1**, wich interpolate the function $u^{n}$ in each point of $S^{1}_{-}=\\left \\{ x_{j-1},x_{j} \\right \\}$. Such that $Q_{-}(x_{j-1})=u_{j-1}^{n}$ and $Q_{-}(x_{j})=u_{j}^{n}$.  \n",
    "Then $$p^{-}=\\frac{u_{j}^{n}-u_{j-1}^{n}}{\\Delta x}=Q'_{-}(x_{j})$$  \n",
    "\n",
    "Let $Q_{+}(x)$ a polynominal of **degree 1**, wich interpolate the function $u^{n}$ in each point of $S^{1}_{+}=\\left \\{ x_{j},x_{j+1} \\right \\}$. Such that $Q_{+}(x_{j})=u_{j}^{n}$ and $Q_{+}(x_{j+1})=u_{j+1}^{n}$.  \n",
    "Then $$p^{+}=\\frac{u_{j+1}^{n}-u_{j}^{n}}{\\Delta x}=Q'_{+}(x_{j})$$\n",
    "\n",
    "Where, $p^{-},p^{+}$ the numerical approximations of $\\partial _{x}u(x_{j},t^{n})$ in the left and the right of $x_{j}$."
   ]
  },
  {
   "cell_type": "markdown",
   "metadata": {},
   "source": [
    "## Hight order schemes in space"
   ]
  },
  {
   "cell_type": "markdown",
   "metadata": {},
   "source": [
    "### Construction of a 2nd order scheme\n",
    "\n",
    "Let $Q_{-}(x)$ a polynominal of **degree 2**, wich interpolate the function $u^{n}$ in each point of $S^{2}_{-}=\\left \\{ x_{j-1},x_{j},x_{j+1} \\right \\}$. Such that $Q_{-}(x_{j-1})=u_{j-1}^{n}$ , $Q_{-}(x_{j})=u_{j}^{n}$ and $Q_{-}(x_{j+1})=u_{j+1}^{n}$.  \n",
    "Then $$p^{-}=Q'_{-}(x_{j})=\\frac{u_{j+1}^{n}-u_{j-1}^{n}}{2 \\Delta x}$$  \n",
    "\n",
    "Let $Q_{+}(x)$ a polynominal of **degree 2**, wich interpolate the function $u^{n}$ in each point of $S^{2}_{+}=\\left \\{ x_{j-1},x_{j},x_{j+1} \\right \\}$. Such that $Q_{+}(x_{j-1})=u_{j-1}^{n}$ , $Q_{+}(x_{j})=u_{j}^{n}$ and $Q_{+}(x_{j+1})=u_{j+1}^{n}$.  \n",
    "Then $$p^{+}=Q'_{+}(x_{j})=\\frac{u_{j+1}^{n}-u_{j-1}^{n}}{2 \\Delta x}=p^{-}$$"
   ]
  },
  {
   "cell_type": "markdown",
   "metadata": {},
   "source": [
    "### Construction of a 3nd order scheme\n",
    "\n",
    "Let $Q_{-}(x)$ a polynominal of **degree 3**, wich interpolate the function $u^{n}$ in each point of $S^{3}_{-}=\\left \\{ x_{j-2},x_{j-1},x_{j},x_{j+1} \\right \\}$. Such that $Q_{-}(x_{j-2})=u_{j-2}^{n}$ , $Q_{-}(x_{j-1})=u_{j-1}^{n}$ , $Q_{-}(x_{j})=u_{j}^{n}$ and $Q_{-}(x_{j+1})=u_{j+1}^{n}$.  \n",
    "Then $$p^{-}=Q'_{-}(x_{j})=\\frac{1}{\\Delta x}\\left(\\frac{1}{6}u_{j-2}^{n}-u_{j-1}^{n}+\\frac{1}{2}u_{j}^{n}+\\frac{1}{3}u_{j+1}^{n}\\right)$$  \n",
    "\n",
    "Let $Q_{+}(x)$ a polynominal of **degree 3**, wich interpolate the function $u^{n}$ in each point of $S^{3}_{+}=\\left \\{ x_{j-1},x_{j},x_{j+1},x_{j+2} \\right \\}$. Such that $Q_{+}(x_{j-1})=u_{j-1}^{n}$ , $Q_{+}(x_{j})=u_{j}^{n}$ , $Q_{+}(x_{j+1})=u_{j+1}^{n}$ and $Q_{+}(x_{j+2})=u_{j+2}^{n}$.  \n",
    "Then $$p^{+}=Q'_{+}(x_{j})=\\frac{1}{\\Delta x}\\left(-\\frac{1}{3}u_{j-1}^{n}-\\frac{1}{2}u_{j}^{n}+u_{j+1}^{n}-\\frac{1}{6}u_{j+2}^{n}\\right)$$ "
   ]
  },
  {
   "cell_type": "markdown",
   "metadata": {},
   "source": [
    "### Notes \n",
    "\n",
    "- For stability reasons, the stencil $S^{k}$ cannot be shifted too much to one side or the other. Usually, the shift is on a point.  \n",
    "- We can construct any order scheme in space by this polynomial interpolation process.  "
   ]
  },
  {
   "cell_type": "markdown",
   "metadata": {},
   "source": [
    "### Notes \n",
    "\n",
    "- These schemes work perfectly for the numerical calculation of regular solutions, but can generate oscillations when it comes to approaching nondifferentiable viscosity solutions for example.\n",
    "- To avoid these parasitic oscillations, the **ENO**, **WENO** and **HWENO** reconstruction strategies are used."
   ]
  }
 ],
 "metadata": {
  "kernelspec": {
   "display_name": "Python 3",
   "language": "python",
   "name": "python3"
  },
  "language_info": {
   "codemirror_mode": {
    "name": "ipython",
    "version": 3
   },
   "file_extension": ".py",
   "mimetype": "text/x-python",
   "name": "python",
   "nbconvert_exporter": "python",
   "pygments_lexer": "ipython3",
   "version": "3.8.5"
  }
 },
 "nbformat": 4,
 "nbformat_minor": 4
}
