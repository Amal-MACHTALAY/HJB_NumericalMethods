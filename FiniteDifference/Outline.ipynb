{
 "cells": [
  {
   "cell_type": "markdown",
   "metadata": {},
   "source": [
    "# Finite difference methods for HJ equations"
   ]
  },
  {
   "cell_type": "markdown",
   "metadata": {},
   "source": [
    "## First-order HJ equation\n",
    "\n",
    "The main results of this paper concern the approximation of\n",
    "solutions of the Cauchy problem for first-order partial differential equations of Hamilton-Jacobi type. Most of the presentation here will be in the context of problems of the form :\n",
    "$$ \\left\\{\\begin{matrix}\n",
    "\\partial _{t}u+ H \\left ( \\nabla_{x}u \\right ) = 0 & ; \\text{ in } \\Omega \\times \\mathbb{R} \\\\ \n",
    "u (x,0) = u_{0}(x) &  ; x \\in \\Omega \\subset \\mathbb{R}^{d}\n",
    "\\end{matrix}\\right. $$\n",
    "Where $ \\nabla _{x} = \\left ( \\partial _{x_{1}} , \\partial _{x_{2}} , ... , \\partial _{x_{n}} \\right )^{T} $"
   ]
  },
  {
   "cell_type": "markdown",
   "metadata": {},
   "source": [
    "## <span style=\"color:Blue\">Structured meshes </span>\n",
    "- [First order monotone shemes](Lessons/FirstOrderMonotoneSchemes.ipynb)  [1]\n",
    "[//]: # \" M. Crandall and P. L. Lions. Two approximations of solutions of Hamilton-Jacobi equations. Trans. Americ. Math. Soc., 43:1–19, 1984.\"\n",
    "- [Total variation diminishing (**TVD**) Method](Lessons/TVD.ipynb) [2]  \n",
    "\n",
    "\n",
    "- [Higher order finite difference **ENO** schemes](Lessons/ENO.ipynb) [2] \n",
    "[//]: # \" S. Osher and C.-W. Shu. High-order essentially nonoscillatory schemes for Hamilton-Jacobi equations. SIAM J. Numer. Anal, 28:907–922, 1991.\"\n",
    "- [Higher order finite difference weighted ENO (**WENO**) schemes](Lessons/WENO.ipynb) [3][4]\n",
    "[//]: # \" G. Jiang and D. Peng. Weighted ENO schemes for Hamilton Jacobi equations. SIAM J. Sci. Comput., 21:2126–2143, 1999.\"\n",
    " \n",
    "- [TVD-Runge-Kutta time discretization](Lessons/TVD_RungeKutta.ipynb) [2]\n",
    "\n",
    "\n",
    "SchemeFunctions.py [1D](NumericalTest/Functions_FiniteDifference_1D.py) "
   ]
  },
  {
   "cell_type": "markdown",
   "metadata": {},
   "source": [
    "### Test Cases\n",
    "\n",
    "- Convex Burgers' Equation [1D](NumericalTest/Results_ConvexBurgersEquation_1D.ipynb) [2D](NumericalTest/Results_ConvexBurgersEquation_2D.ipynb) \n",
    "- Non-Convex Equation [1D](NumericalTest/Results_NonConvexEquation_1D.ipynb)\n",
    "[2D](NumericalTest/Results_NonConvexEquation_2D.ipynb) \n",
    "- Non-Convex Reimann Problem [1D](NumericalTest/Results_NonConvexRiemann_1D.ipynb)\n",
    "[2D](NumericalTest/Results_NonConvexRiemann_2D.ipynb)\n",
    "- Front propagation problems : Eikonal Equation [1D](NumericalTest/Results_EikonalEquation_1D.ipynb)\n",
    "[2D](NumericalTest/Results_EikonalEquation_2D.ipynb)"
   ]
  },
  {
   "cell_type": "markdown",
   "metadata": {},
   "source": [
    "## References"
   ]
  },
  {
   "cell_type": "markdown",
   "metadata": {},
   "source": [
    "<span style=\"color:Blue\">[1] </span> M. Crandall and P. L. Lions. Two approximations of solutions of Hamilton-Jacobi equations. Trans. Americ. Math. Soc., 43:1–19, 1984.  \n",
    "<span style=\"color:Blue\">[2] </span> S. Osher and C.-W. Shu. High-order essentially nonoscillatory schemes for Hamilton-Jacobi equations. SIAM J. Numer. Anal, 28:907–922, 1991.  \n",
    "<span style=\"color:Blue\">[3] </span> G. Jiang and D. Peng. Weighted ENO schemes for Hamilton Jacobi equations. SIAM J. Sci. Comput., 21:2126–2143, 1999.  \n",
    "<span style=\"color:Blue\">[4] </span> C.-W. Shu, High order weighted essentially non-oscillatory schemes for convection dominated problems, SIAM Review, 51 (2009), 82-126.  "
   ]
  }
 ],
 "metadata": {
  "kernelspec": {
   "display_name": "Python 3",
   "language": "python",
   "name": "python3"
  },
  "language_info": {
   "codemirror_mode": {
    "name": "ipython",
    "version": 3
   },
   "file_extension": ".py",
   "mimetype": "text/x-python",
   "name": "python",
   "nbconvert_exporter": "python",
   "pygments_lexer": "ipython3",
   "version": "3.8.5"
  }
 },
 "nbformat": 4,
 "nbformat_minor": 4
}
