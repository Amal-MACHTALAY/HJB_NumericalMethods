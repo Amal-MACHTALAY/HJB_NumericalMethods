{
 "cells": [
  {
   "cell_type": "markdown",
   "metadata": {},
   "source": [
    "# Finite difference methods for HJ equations"
   ]
  },
  {
   "cell_type": "markdown",
   "metadata": {},
   "source": [
    "## The problem\n",
    "\n",
    "The main results of this paper concern the approximation of\n",
    "solutions of the Cauchy problem for first-order partial differential equations of Hamilton-Jacobi type. Most of the presentation here will be in the context of problems of the form :\n",
    "$$ \\left\\{\\begin{matrix}\n",
    "\\partial _{t}u+ H \\left ( \\nabla_{x}u \\right ) = 0 & ; \\text{ in } \\Omega \\times \\mathbb{R} \\\\ \n",
    "u (x,0) = u_{0}(x) &  ; x \\in \\Omega \\subset \\mathbb{R}^{d}\n",
    "\\end{matrix}\\right. $$\n",
    "Where $ \\nabla _{x} = \\left ( \\partial _{x_{1}} , \\partial _{x_{2}} , ... , \\partial _{x_{n}} \\right )^{T} $"
   ]
  },
  {
   "cell_type": "markdown",
   "metadata": {},
   "source": [
    "## <span style=\"color:Blue\">Structured meshes </span>\n",
    "- [First order monotone shemes](Lessons/FirstOrderMonotoneSchemes.ipynb)  [1]\n",
    "[//]: # \" M. Crandall and P. L. Lions. Two approximations of solutions of Hamilton-Jacobi equations. Trans. Americ. Math. Soc., 43:1–19, 1984.\"\n",
    "- [TVD Runge-Kutta Method](Lessons/TVD_RungeKutta.ipynb) [2] \n",
    "\n",
    "\n",
    "- [Higher order finite difference **ENO** schemes](Lessons/ENO.ipynb) [2] \n",
    "[//]: # \" S. Osher and C.-W. Shu. High-order essentially nonoscillatory schemes for Hamilton-Jacobi equations. SIAM J. Numer. Anal, 28:907–922, 1991.\"\n",
    "- [Higher order finite difference weighted ENO (**WENO**) schemes](Lessons/WENO.ipynb) [3][4]\n",
    "[//]: # \" G. Jiang and D. Peng. Weighted ENO schemes for Hamilton Jacobi equations. SIAM J. Sci. Comput., 21:2126–2143, 1999.\"\n",
    "- [Hermite WENO (**HWENO**) schemes](Lessons/HWENO.ipynb) [5][6] \n",
    "[//]: # \" J. Qiu and C.-W. Shu. Hermite WENO schemes and their application as limiters for Runge-Kutta Discontinuous Galerkin method: one-dimensional case. J. Comput. Phys., 193:115–135, 2004. \"\n",
    "[//]: # \" J. Qiu. Hermite WENO schemes with Lax-Wendroff type time discretizations for Hamilton-Jacobi equations. J. Comput. Math., 25:131–144, 2007.\""
   ]
  },
  {
   "cell_type": "markdown",
   "metadata": {},
   "source": [
    "### Test Cases\n",
    "\n",
    "- [Convex Burgers' Equation 1D](NumericalTest/ConvexBurgersEquation_1D.ipynb) \n",
    "- [Non-Convex Equation 1D](NumericalTest/NonConvexEquation_1D.ipynb) \n",
    "- Front propagation problems"
   ]
  },
  {
   "cell_type": "markdown",
   "metadata": {},
   "source": [
    "##  <span style=\"color:Blue\">Unstructured meshes </span>\n",
    "- First order monotone schemes on triangular meshes [Abgrall]\n",
    "[//]: # \" R. Abgrall. Numerical discretization of the first-order Hamilton-Jacobi equation on triangular meshes. Commum. Pur. Appl. Math., 49:1339–1373, 1996\"\n",
    "- Second order schemes [Lafon-Osher]\n",
    "[//]: # \" F. Lafon and S. Osher. High order two dimensional nonoscillatory methods for solving Hamilton-Jacobi scalar equations. J. Comput. Phys., 123:235–253, 1996.\"\n",
    "- Higher order **WENO** schemes [Zhang-Shu]\n",
    "[//]: # \" Y. T. Zhang and C.-W. Shu. High order WENO schemes for Hamilton-Jacobi equations on triangular meshes. SIAM J. Sci. Comput, 24:1005–1030, 2003.\"\n",
    "- Higher order **HWENO** schemes [Zhu-Qiu]\n",
    "[//]: # \" J. Zhu and J. Qiu. Finite volume Hermite WENO schemes for solving the Hamilton-Jacobi equation. Commun. Comput. Phys., 15:959–980, 2014.\""
   ]
  },
  {
   "cell_type": "markdown",
   "metadata": {},
   "source": [
    "## References"
   ]
  },
  {
   "cell_type": "markdown",
   "metadata": {},
   "source": [
    "<span style=\"color:Blue\">[1] </span> M. Crandall and P. L. Lions. Two approximations of solutions of Hamilton-Jacobi equations. Trans. Americ. Math. Soc., 43:1–19, 1984.  \n",
    "<span style=\"color:Blue\">[2] </span> S. Osher and C.-W. Shu. High-order essentially nonoscillatory schemes for Hamilton-Jacobi equations. SIAM J. Numer. Anal, 28:907–922, 1991.  \n",
    "<span style=\"color:Blue\">[3] </span> G. Jiang and D. Peng. Weighted ENO schemes for Hamilton Jacobi equations. SIAM J. Sci. Comput., 21:2126–2143, 1999.  \n",
    "<span style=\"color:Blue\">[4] </span> C.-W. Shu, High order weighted essentially non-oscillatory schemes for convection dominated problems, SIAM Review, 51 (2009), 82-126.  \n",
    "<span style=\"color:Blue\">[5] </span> J. Qiu and C.-W. Shu. Hermite WENO schemes and their application as limiters for Runge-Kutta Discontinuous Galerkin method: one-dimensional case. J. Comput. Phys., 193:115–135, 2004.  \n",
    "<span style=\"color:Blue\">[6] </span> J. Qiu. Hermite WENO schemes with Lax-Wendroff type time discretizations for Hamilton-Jacobi equations. J. Comput. Math., 25:131–144, 2007."
   ]
  }
 ],
 "metadata": {
  "kernelspec": {
   "display_name": "Python 3",
   "language": "python",
   "name": "python3"
  },
  "language_info": {
   "codemirror_mode": {
    "name": "ipython",
    "version": 3
   },
   "file_extension": ".py",
   "mimetype": "text/x-python",
   "name": "python",
   "nbconvert_exporter": "python",
   "pygments_lexer": "ipython3",
   "version": "3.8.5"
  }
 },
 "nbformat": 4,
 "nbformat_minor": 4
}
